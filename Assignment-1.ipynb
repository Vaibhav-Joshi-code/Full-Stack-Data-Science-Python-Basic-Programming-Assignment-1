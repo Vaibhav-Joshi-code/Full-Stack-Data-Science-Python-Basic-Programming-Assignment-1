{
 "cells": [
  {
   "cell_type": "code",
   "execution_count": 1,
   "id": "9b8f893c",
   "metadata": {},
   "outputs": [
    {
     "name": "stdout",
     "output_type": "stream",
     "text": [
      "Hello Python\n"
     ]
    }
   ],
   "source": [
    "#Q1 Write a Python program to print \"Hello Python\"\n",
    "print(\"Hello Python\")"
   ]
  },
  {
   "cell_type": "code",
   "execution_count": 2,
   "id": "09ff1df8",
   "metadata": {},
   "outputs": [
    {
     "name": "stdout",
     "output_type": "stream",
     "text": [
      "7\n",
      "11\n",
      "2.5\n",
      "2.25\n",
      "2\n",
      "2\n"
     ]
    }
   ],
   "source": [
    "# Write a Python program to print arithmetic operators addition and division\n",
    "\n",
    "## Addition:\n",
    "print(3+4)\n",
    "print(5+6)\n",
    "\n",
    "## Division:\n",
    "# Float division\n",
    "# Float division returns true division\n",
    "print(5/2)\n",
    "print(9/4)\n",
    "\n",
    "# Floor division\n",
    "# Floor division returns quotient obtained when dividing 2 numbers\n",
    "print(5//2)\n",
    "print(9//4)\n"
   ]
  },
  {
   "cell_type": "code",
   "execution_count": 3,
   "id": "6cb20470",
   "metadata": {},
   "outputs": [
    {
     "name": "stdout",
     "output_type": "stream",
     "text": [
      "Enter first side: 5\n",
      "Enter second side: 6\n",
      "Enter third side: 7\n",
      "The area of triangle with sides 5, 6 and 7 is 14.696938456699069 sq units\n"
     ]
    }
   ],
   "source": [
    "# Write a Python Program to print the area of a triangle\n",
    "a = eval(input(\"Enter first side: \"))\n",
    "b = eval(input(\"Enter second side: \"))\n",
    "c = eval(input(\"Enter third side: \"))\n",
    "s = (a+b+c)/2\n",
    "area = (s*(s-a)*(s-b)*(s-c))**0.5\n",
    "print(f\"The area of triangle with sides {a}, {b} and {c} is {area} sq units\")"
   ]
  },
  {
   "cell_type": "code",
   "execution_count": 5,
   "id": "bc231798",
   "metadata": {},
   "outputs": [
    {
     "name": "stdout",
     "output_type": "stream",
     "text": [
      "Enter value for a: 2\n",
      "Enter value for b: 3\n",
      "Before swap: \n",
      "a = 2, b = 3\n",
      "After swap: \n",
      "a = 3, b=2\n"
     ]
    }
   ],
   "source": [
    "# Write a Python Program to swap two variables\n",
    "a = eval(input(\"Enter value for a: \"))\n",
    "b = eval(input(\"Enter value for b: \"))\n",
    "print(\"Before swap: \")\n",
    "print(f\"a = {a}, b = {b}\")\n",
    "\n",
    "a,b = b,a\n",
    "print(\"After swap: \")\n",
    "print(f\"a = {a}, b={b}\")"
   ]
  },
  {
   "cell_type": "code",
   "execution_count": 6,
   "id": "aa22b663",
   "metadata": {},
   "outputs": [
    {
     "name": "stdout",
     "output_type": "stream",
     "text": [
      "0.3720104438063091\n"
     ]
    }
   ],
   "source": [
    "# Write a Python Program to generate a random number\n",
    "import random\n",
    "a = random.random()\n",
    "print(a)"
   ]
  }
 ],
 "metadata": {
  "kernelspec": {
   "display_name": "Python 3",
   "language": "python",
   "name": "python3"
  },
  "language_info": {
   "codemirror_mode": {
    "name": "ipython",
    "version": 3
   },
   "file_extension": ".py",
   "mimetype": "text/x-python",
   "name": "python",
   "nbconvert_exporter": "python",
   "pygments_lexer": "ipython3",
   "version": "3.8.8"
  }
 },
 "nbformat": 4,
 "nbformat_minor": 5
}
